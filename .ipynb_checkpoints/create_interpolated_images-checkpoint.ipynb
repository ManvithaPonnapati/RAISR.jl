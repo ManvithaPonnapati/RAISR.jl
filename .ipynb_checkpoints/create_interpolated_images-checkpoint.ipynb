{
 "cells": [
  {
   "cell_type": "code",
   "execution_count": 1,
   "metadata": {},
   "outputs": [
    {
     "name": "stdout",
     "output_type": "stream",
     "text": [
      "String[\".DS_Store\", \"pixelrose.jpg\"]\n"
     ]
    }
   ],
   "source": [
    "using Images\n",
    "GROUND_TRUTH_FILE = \"/Users/manvithaponnapati/RAISR/test_data/ground_truth/\"\n",
    "LOW_RES_FILE = \"/Users/manvithaponnapati/RAISR/test_data/low_res/\"\n",
    "INTERPOLATED_FILE = \"/Users/manvithaponnapati/RAISR/test_data/interpolated/\"\n",
    "filenames = readdir(LOW_RES_FILE)\n",
    "println(filenames)\n",
    "scaling_factor = 2\n",
    "#Rescalr them nback\n",
    "for file in filenames\n",
    "  if (contains(\"$file\", \".jpg\")) == true     \n",
    "        w,h = size(load(LOW_RES_FILE*file))\n",
    "        w = 2*w\n",
    "        h = 2*h\n",
    "        img = load(String(LOW_RES_FILE*file))\n",
    "        rescaled_img = rand(RGB{N0f8}, w,h)\n",
    "        for row in 1:w\n",
    "            for col in 1:h\n",
    "                rescaled_img[row,col] = bilinear_interpolation(img,row/scaling_factor,col/scaling_factor)\n",
    "            end\n",
    "        end\n",
    "        #imresize by default uses bilinear interpolation\n",
    "        save(INTERPOLATED_FILE*file,rescaled_img)\n",
    "    end\n",
    "end\n"
   ]
  },
  {
   "cell_type": "code",
   "execution_count": 3,
   "metadata": {},
   "outputs": [
    {
     "name": "stdout",
     "output_type": "stream",
     "text": [
      "(321, 481)\n"
     ]
    },
    {
     "data": {
      "image/png": "[encoded data removed]",
      "text/plain": [
       "25×2 Array{RGB4{N0f8},2}:\n",
       " RGB4{N0f8}(0.004,0.988,0.0)    RGB4{N0f8}(0.008,0.996,1.0)  \n",
       " RGB4{N0f8}(0.02,0.0,0.016)     RGB4{N0f8}(0.976,0.961,0.965)\n",
       " RGB4{N0f8}(0.992,0.973,0.98)   RGB4{N0f8}(0.98,0.965,0.961) \n",
       " RGB4{N0f8}(0.0,0.984,0.992)    RGB4{N0f8}(0.027,0.008,0.016)\n",
       " RGB4{N0f8}(0.027,0.008,0.016)  RGB4{N0f8}(0.09,0.071,0.078) \n",
       " RGB4{N0f8}(0.961,0.941,0.957)  RGB4{N0f8}(0.949,0.929,0.937)\n",
       " RGB4{N0f8}(0.957,0.933,0.941)  RGB4{N0f8}(0.941,0.925,0.922)\n",
       " RGB4{N0f8}(0.047,0.024,0.031)  RGB4{N0f8}(1.0,0.984,0.98)   \n",
       " RGB4{N0f8}(0.027,0.024,0.055)  RGB4{N0f8}(0.024,0.024,0.063)\n",
       " RGB4{N0f8}(0.957,0.953,0.984)  RGB4{N0f8}(0.031,0.035,0.063)\n",
       " RGB4{N0f8}(0.047,0.039,0.055)  RGB4{N0f8}(0.039,0.043,0.063)\n",
       " RGB4{N0f8}(0.851,0.843,0.859)  RGB4{N0f8}(0.035,0.039,0.059)\n",
       " RGB4{N0f8}(0.855,0.851,0.878)  RGB4{N0f8}(0.957,0.953,0.988)\n",
       " RGB4{N0f8}(0.047,0.043,0.071)  RGB4{N0f8}(0.98,0.973,0.004) \n",
       " RGB4{N0f8}(0.043,0.035,0.059)  RGB4{N0f8}(0.996,0.992,0.02) \n",
       " RGB4{N0f8}(0.082,0.075,0.094)  RGB4{N0f8}(0.094,0.09,0.114) \n",
       " RGB4{N0f8}(0.051,0.043,0.047)  RGB4{N0f8}(0.09,0.09,0.098)  \n",
       " RGB4{N0f8}(0.047,0.039,0.035)  RGB4{N0f8}(0.067,0.067,0.067)\n",
       " RGB4{N0f8}(0.024,0.012,0.012)  RGB4{N0f8}(0.973,0.965,0.969)\n",
       " RGB4{N0f8}(0.004,0.992,0.012)  RGB4{N0f8}(0.969,0.961,0.98) \n",
       " RGB4{N0f8}(0.039,0.012,0.051)  RGB4{N0f8}(0.02,0.008,0.043) \n",
       " RGB4{N0f8}(0.945,0.918,0.965)  RGB4{N0f8}(0.973,0.961,0.996)\n",
       " RGB4{N0f8}(0.02,0.996,0.031)   RGB4{N0f8}(0.984,0.961,1.0)  \n",
       " RGB4{N0f8}(0.047,0.02,0.059)   RGB4{N0f8}(0.055,0.031,0.071)\n",
       " RGB4{N0f8}(0.106,0.11,0.145)   RGB4{N0f8}(0.098,0.09,0.129) "
      ]
     },
     "execution_count": 3,
     "metadata": {},
     "output_type": "execute_result"
    }
   ],
   "source": [
    "# For Sanity check let me make sure the interpolation wasn't perfect\n",
    "interpolated_im = load(\"/Users/manvithaponnapati/RAISR/train_data/interpolated/pixelrose.jpg\")\n",
    "ground_truth_im = load(\"/Users/manvithaponnapati/RAISR/train_data/ground_truth/pixelrose.jpg\")\n",
    "println(size(interpolated_im))\n",
    "interpolated_im[89:113, 2:3]-ground_truth_im[89:113, 2:3]"
   ]
  },
  {
   "cell_type": "code",
   "execution_count": null,
   "metadata": {
    "collapsed": true
   },
   "outputs": [],
   "source": []
  }
 ],
 "metadata": {
  "kernelspec": {
   "display_name": "Julia 0.6.1",
   "language": "julia",
   "name": "julia-0.6"
  },
  "language_info": {
   "file_extension": ".jl",
   "mimetype": "application/julia",
   "name": "julia",
   "version": "0.6.1"
  }
 },
 "nbformat": 4,
 "nbformat_minor": 2
}
